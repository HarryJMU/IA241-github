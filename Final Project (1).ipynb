{
 "cells": [
  {
   "cell_type": "markdown",
   "id": "816aa4e0",
   "metadata": {},
   "source": [
    "# COVID-19 Data in Spain for 2020"
   ]
  },
  {
   "cell_type": "markdown",
   "id": "92f88daa",
   "metadata": {},
   "source": [
    "![Spain Flag](https://upload.wikimedia.org/wikipedia/en/thumb/9/9a/Flag_of_Spain.svg/750px-Flag_of_Spain.svg.png?20160610210450)"
   ]
  },
  {
   "cell_type": "code",
   "execution_count": 3,
   "id": "65b86a06",
   "metadata": {},
   "outputs": [],
   "source": [
    "%matplotlib inline\n",
    "import pandas"
   ]
  },
  {
   "cell_type": "markdown",
   "id": "22aa6266",
   "metadata": {},
   "source": [
    "## Background of COVID-19"
   ]
  },
  {
   "cell_type": "markdown",
   "id": "8834aa45",
   "metadata": {},
   "source": [
    "COVID-19 is a disease caused by a virus that was first discovered in December 2019 in Wuhan, China. It was quickly discovered that the virus was highly contagious, and this led to its quick spread globally. As cases began to increase to 100,000 in March 2020 the World Health Organization declared COVID-19 as a pandemic, which led to quarantines and lockdowns worldwide. The main symptoms experienced by those infected were fevers-like symptoms and most notably respiratory issues. Globally COVID-19 became a health crisis, which saw half a billion cases and over six million deaths globally from 2020 to the present. \n",
    "\n",
    "COVID-19 has left a cultural and social impact on society globally. Globally people saw the mandatory mask mandates and social distancing protocols. Business, education, health care, and so much more have been significantly altered. "
   ]
  },
  {
   "cell_type": "markdown",
   "id": "ab05eedb",
   "metadata": {},
   "source": [
    "## Data Source"
   ]
  },
  {
   "cell_type": "markdown",
   "id": "958da271",
   "metadata": {},
   "source": [
    "The data is downloaded from European Centre for Disease Prevention and Control. https://www.ecdc.europa.eu/en/publications-data/download-todays-data-geographic-distribution-covid-19-cases-worldwide\n",
    "\n"
   ]
  },
  {
   "cell_type": "markdown",
   "id": "d16bf263",
   "metadata": {},
   "source": [
    "## A Quick View of the Data"
   ]
  },
  {
   "cell_type": "markdown",
   "id": "db90696b",
   "metadata": {},
   "source": [
    "This is a look into the data collected by the data source (European Centre for Disease Prevention and Control) as it focused it efforts to gather COVID-19 data from various countries around the world."
   ]
  },
  {
   "cell_type": "code",
   "execution_count": 4,
   "id": "31f89406",
   "metadata": {},
   "outputs": [
    {
     "data": {
      "text/html": [
       "<div>\n",
       "<style scoped>\n",
       "    .dataframe tbody tr th:only-of-type {\n",
       "        vertical-align: middle;\n",
       "    }\n",
       "\n",
       "    .dataframe tbody tr th {\n",
       "        vertical-align: top;\n",
       "    }\n",
       "\n",
       "    .dataframe thead th {\n",
       "        text-align: right;\n",
       "    }\n",
       "</style>\n",
       "<table border=\"1\" class=\"dataframe\">\n",
       "  <thead>\n",
       "    <tr style=\"text-align: right;\">\n",
       "      <th></th>\n",
       "      <th>dateRep</th>\n",
       "      <th>day</th>\n",
       "      <th>month</th>\n",
       "      <th>year</th>\n",
       "      <th>cases</th>\n",
       "      <th>deaths</th>\n",
       "      <th>countriesAndTerritories</th>\n",
       "      <th>geoId</th>\n",
       "      <th>countryterritoryCode</th>\n",
       "      <th>popData2019</th>\n",
       "      <th>continentExp</th>\n",
       "      <th>Cumulative_number_for_14_days_of_COVID-19_cases_per_100000</th>\n",
       "    </tr>\n",
       "  </thead>\n",
       "  <tbody>\n",
       "    <tr>\n",
       "      <th>0</th>\n",
       "      <td>14/12/2020</td>\n",
       "      <td>14</td>\n",
       "      <td>12</td>\n",
       "      <td>2020</td>\n",
       "      <td>746</td>\n",
       "      <td>6</td>\n",
       "      <td>Afghanistan</td>\n",
       "      <td>AF</td>\n",
       "      <td>AFG</td>\n",
       "      <td>38041757.0</td>\n",
       "      <td>Asia</td>\n",
       "      <td>9.013779</td>\n",
       "    </tr>\n",
       "    <tr>\n",
       "      <th>1</th>\n",
       "      <td>13/12/2020</td>\n",
       "      <td>13</td>\n",
       "      <td>12</td>\n",
       "      <td>2020</td>\n",
       "      <td>298</td>\n",
       "      <td>9</td>\n",
       "      <td>Afghanistan</td>\n",
       "      <td>AF</td>\n",
       "      <td>AFG</td>\n",
       "      <td>38041757.0</td>\n",
       "      <td>Asia</td>\n",
       "      <td>7.052776</td>\n",
       "    </tr>\n",
       "    <tr>\n",
       "      <th>2</th>\n",
       "      <td>2020-12-12 00:00:00</td>\n",
       "      <td>12</td>\n",
       "      <td>12</td>\n",
       "      <td>2020</td>\n",
       "      <td>113</td>\n",
       "      <td>11</td>\n",
       "      <td>Afghanistan</td>\n",
       "      <td>AF</td>\n",
       "      <td>AFG</td>\n",
       "      <td>38041757.0</td>\n",
       "      <td>Asia</td>\n",
       "      <td>6.868768</td>\n",
       "    </tr>\n",
       "    <tr>\n",
       "      <th>3</th>\n",
       "      <td>2020-11-12 00:00:00</td>\n",
       "      <td>11</td>\n",
       "      <td>12</td>\n",
       "      <td>2020</td>\n",
       "      <td>63</td>\n",
       "      <td>10</td>\n",
       "      <td>Afghanistan</td>\n",
       "      <td>AF</td>\n",
       "      <td>AFG</td>\n",
       "      <td>38041757.0</td>\n",
       "      <td>Asia</td>\n",
       "      <td>7.134266</td>\n",
       "    </tr>\n",
       "    <tr>\n",
       "      <th>4</th>\n",
       "      <td>2020-10-12 00:00:00</td>\n",
       "      <td>10</td>\n",
       "      <td>12</td>\n",
       "      <td>2020</td>\n",
       "      <td>202</td>\n",
       "      <td>16</td>\n",
       "      <td>Afghanistan</td>\n",
       "      <td>AF</td>\n",
       "      <td>AFG</td>\n",
       "      <td>38041757.0</td>\n",
       "      <td>Asia</td>\n",
       "      <td>6.968658</td>\n",
       "    </tr>\n",
       "    <tr>\n",
       "      <th>5</th>\n",
       "      <td>2020-09-12 00:00:00</td>\n",
       "      <td>9</td>\n",
       "      <td>12</td>\n",
       "      <td>2020</td>\n",
       "      <td>135</td>\n",
       "      <td>13</td>\n",
       "      <td>Afghanistan</td>\n",
       "      <td>AF</td>\n",
       "      <td>AFG</td>\n",
       "      <td>38041757.0</td>\n",
       "      <td>Asia</td>\n",
       "      <td>6.963401</td>\n",
       "    </tr>\n",
       "    <tr>\n",
       "      <th>6</th>\n",
       "      <td>2020-08-12 00:00:00</td>\n",
       "      <td>8</td>\n",
       "      <td>12</td>\n",
       "      <td>2020</td>\n",
       "      <td>200</td>\n",
       "      <td>6</td>\n",
       "      <td>Afghanistan</td>\n",
       "      <td>AF</td>\n",
       "      <td>AFG</td>\n",
       "      <td>38041757.0</td>\n",
       "      <td>Asia</td>\n",
       "      <td>7.094835</td>\n",
       "    </tr>\n",
       "    <tr>\n",
       "      <th>7</th>\n",
       "      <td>2020-07-12 00:00:00</td>\n",
       "      <td>7</td>\n",
       "      <td>12</td>\n",
       "      <td>2020</td>\n",
       "      <td>210</td>\n",
       "      <td>26</td>\n",
       "      <td>Afghanistan</td>\n",
       "      <td>AF</td>\n",
       "      <td>AFG</td>\n",
       "      <td>38041757.0</td>\n",
       "      <td>Asia</td>\n",
       "      <td>7.215755</td>\n",
       "    </tr>\n",
       "    <tr>\n",
       "      <th>8</th>\n",
       "      <td>2020-06-12 00:00:00</td>\n",
       "      <td>6</td>\n",
       "      <td>12</td>\n",
       "      <td>2020</td>\n",
       "      <td>234</td>\n",
       "      <td>10</td>\n",
       "      <td>Afghanistan</td>\n",
       "      <td>AF</td>\n",
       "      <td>AFG</td>\n",
       "      <td>38041757.0</td>\n",
       "      <td>Asia</td>\n",
       "      <td>7.326160</td>\n",
       "    </tr>\n",
       "    <tr>\n",
       "      <th>9</th>\n",
       "      <td>2020-05-12 00:00:00</td>\n",
       "      <td>5</td>\n",
       "      <td>12</td>\n",
       "      <td>2020</td>\n",
       "      <td>235</td>\n",
       "      <td>18</td>\n",
       "      <td>Afghanistan</td>\n",
       "      <td>AF</td>\n",
       "      <td>AFG</td>\n",
       "      <td>38041757.0</td>\n",
       "      <td>Asia</td>\n",
       "      <td>7.115865</td>\n",
       "    </tr>\n",
       "  </tbody>\n",
       "</table>\n",
       "</div>"
      ],
      "text/plain": [
       "               dateRep  day  month  year  cases  deaths  \\\n",
       "0           14/12/2020   14     12  2020    746       6   \n",
       "1           13/12/2020   13     12  2020    298       9   \n",
       "2  2020-12-12 00:00:00   12     12  2020    113      11   \n",
       "3  2020-11-12 00:00:00   11     12  2020     63      10   \n",
       "4  2020-10-12 00:00:00   10     12  2020    202      16   \n",
       "5  2020-09-12 00:00:00    9     12  2020    135      13   \n",
       "6  2020-08-12 00:00:00    8     12  2020    200       6   \n",
       "7  2020-07-12 00:00:00    7     12  2020    210      26   \n",
       "8  2020-06-12 00:00:00    6     12  2020    234      10   \n",
       "9  2020-05-12 00:00:00    5     12  2020    235      18   \n",
       "\n",
       "  countriesAndTerritories geoId countryterritoryCode  popData2019  \\\n",
       "0             Afghanistan    AF                  AFG   38041757.0   \n",
       "1             Afghanistan    AF                  AFG   38041757.0   \n",
       "2             Afghanistan    AF                  AFG   38041757.0   \n",
       "3             Afghanistan    AF                  AFG   38041757.0   \n",
       "4             Afghanistan    AF                  AFG   38041757.0   \n",
       "5             Afghanistan    AF                  AFG   38041757.0   \n",
       "6             Afghanistan    AF                  AFG   38041757.0   \n",
       "7             Afghanistan    AF                  AFG   38041757.0   \n",
       "8             Afghanistan    AF                  AFG   38041757.0   \n",
       "9             Afghanistan    AF                  AFG   38041757.0   \n",
       "\n",
       "  continentExp  Cumulative_number_for_14_days_of_COVID-19_cases_per_100000  \n",
       "0         Asia                                           9.013779           \n",
       "1         Asia                                           7.052776           \n",
       "2         Asia                                           6.868768           \n",
       "3         Asia                                           7.134266           \n",
       "4         Asia                                           6.968658           \n",
       "5         Asia                                           6.963401           \n",
       "6         Asia                                           7.094835           \n",
       "7         Asia                                           7.215755           \n",
       "8         Asia                                           7.326160           \n",
       "9         Asia                                           7.115865           "
      ]
     },
     "execution_count": 4,
     "metadata": {},
     "output_type": "execute_result"
    }
   ],
   "source": [
    "df = pandas.read_excel('s3://ia241-spring2022-chu/covid_data.xls')\n",
    "df[:10]"
   ]
  },
  {
   "cell_type": "markdown",
   "id": "dda1c3e0",
   "metadata": {},
   "source": [
    "## A Quick View of Spain's COVID-19 Data"
   ]
  },
  {
   "cell_type": "markdown",
   "id": "a3acbe74",
   "metadata": {},
   "source": [
    "This is a look into the data collected for Spain by the data source (European Centre for Disease Prevention and Control)."
   ]
  },
  {
   "cell_type": "code",
   "execution_count": 5,
   "id": "b03f7c66",
   "metadata": {
    "scrolled": false
   },
   "outputs": [
    {
     "data": {
      "text/html": [
       "<div>\n",
       "<style scoped>\n",
       "    .dataframe tbody tr th:only-of-type {\n",
       "        vertical-align: middle;\n",
       "    }\n",
       "\n",
       "    .dataframe tbody tr th {\n",
       "        vertical-align: top;\n",
       "    }\n",
       "\n",
       "    .dataframe thead th {\n",
       "        text-align: right;\n",
       "    }\n",
       "</style>\n",
       "<table border=\"1\" class=\"dataframe\">\n",
       "  <thead>\n",
       "    <tr style=\"text-align: right;\">\n",
       "      <th></th>\n",
       "      <th>dateRep</th>\n",
       "      <th>day</th>\n",
       "      <th>month</th>\n",
       "      <th>year</th>\n",
       "      <th>cases</th>\n",
       "      <th>deaths</th>\n",
       "      <th>countriesAndTerritories</th>\n",
       "      <th>geoId</th>\n",
       "      <th>countryterritoryCode</th>\n",
       "      <th>popData2019</th>\n",
       "      <th>continentExp</th>\n",
       "      <th>Cumulative_number_for_14_days_of_COVID-19_cases_per_100000</th>\n",
       "    </tr>\n",
       "  </thead>\n",
       "  <tbody>\n",
       "    <tr>\n",
       "      <th>52723</th>\n",
       "      <td>13/12/2020</td>\n",
       "      <td>13</td>\n",
       "      <td>12</td>\n",
       "      <td>2020</td>\n",
       "      <td>0</td>\n",
       "      <td>0</td>\n",
       "      <td>Spain</td>\n",
       "      <td>ES</td>\n",
       "      <td>ESP</td>\n",
       "      <td>46937060.0</td>\n",
       "      <td>Europe</td>\n",
       "      <td>218.094188</td>\n",
       "    </tr>\n",
       "    <tr>\n",
       "      <th>52724</th>\n",
       "      <td>2020-12-12 00:00:00</td>\n",
       "      <td>12</td>\n",
       "      <td>12</td>\n",
       "      <td>2020</td>\n",
       "      <td>0</td>\n",
       "      <td>0</td>\n",
       "      <td>Spain</td>\n",
       "      <td>ES</td>\n",
       "      <td>ESP</td>\n",
       "      <td>46937060.0</td>\n",
       "      <td>Europe</td>\n",
       "      <td>218.094188</td>\n",
       "    </tr>\n",
       "    <tr>\n",
       "      <th>52725</th>\n",
       "      <td>2020-11-12 00:00:00</td>\n",
       "      <td>11</td>\n",
       "      <td>12</td>\n",
       "      <td>2020</td>\n",
       "      <td>10519</td>\n",
       "      <td>280</td>\n",
       "      <td>Spain</td>\n",
       "      <td>ES</td>\n",
       "      <td>ESP</td>\n",
       "      <td>46937060.0</td>\n",
       "      <td>Europe</td>\n",
       "      <td>218.094188</td>\n",
       "    </tr>\n",
       "    <tr>\n",
       "      <th>52726</th>\n",
       "      <td>2020-10-12 00:00:00</td>\n",
       "      <td>10</td>\n",
       "      <td>12</td>\n",
       "      <td>2020</td>\n",
       "      <td>7955</td>\n",
       "      <td>325</td>\n",
       "      <td>Spain</td>\n",
       "      <td>ES</td>\n",
       "      <td>ESP</td>\n",
       "      <td>46937060.0</td>\n",
       "      <td>Europe</td>\n",
       "      <td>218.805779</td>\n",
       "    </tr>\n",
       "    <tr>\n",
       "      <th>52727</th>\n",
       "      <td>2020-09-12 00:00:00</td>\n",
       "      <td>9</td>\n",
       "      <td>12</td>\n",
       "      <td>2020</td>\n",
       "      <td>9773</td>\n",
       "      <td>373</td>\n",
       "      <td>Spain</td>\n",
       "      <td>ES</td>\n",
       "      <td>ESP</td>\n",
       "      <td>46937060.0</td>\n",
       "      <td>Europe</td>\n",
       "      <td>228.039421</td>\n",
       "    </tr>\n",
       "    <tr>\n",
       "      <th>52728</th>\n",
       "      <td>2020-08-12 00:00:00</td>\n",
       "      <td>8</td>\n",
       "      <td>12</td>\n",
       "      <td>2020</td>\n",
       "      <td>0</td>\n",
       "      <td>0</td>\n",
       "      <td>Spain</td>\n",
       "      <td>ES</td>\n",
       "      <td>ESP</td>\n",
       "      <td>46937060.0</td>\n",
       "      <td>Europe</td>\n",
       "      <td>228.996021</td>\n",
       "    </tr>\n",
       "    <tr>\n",
       "      <th>52729</th>\n",
       "      <td>2020-07-12 00:00:00</td>\n",
       "      <td>7</td>\n",
       "      <td>12</td>\n",
       "      <td>2020</td>\n",
       "      <td>17681</td>\n",
       "      <td>394</td>\n",
       "      <td>Spain</td>\n",
       "      <td>ES</td>\n",
       "      <td>ESP</td>\n",
       "      <td>46937060.0</td>\n",
       "      <td>Europe</td>\n",
       "      <td>255.047930</td>\n",
       "    </tr>\n",
       "    <tr>\n",
       "      <th>52730</th>\n",
       "      <td>2020-06-12 00:00:00</td>\n",
       "      <td>6</td>\n",
       "      <td>12</td>\n",
       "      <td>2020</td>\n",
       "      <td>0</td>\n",
       "      <td>0</td>\n",
       "      <td>Spain</td>\n",
       "      <td>ES</td>\n",
       "      <td>ESP</td>\n",
       "      <td>46937060.0</td>\n",
       "      <td>Europe</td>\n",
       "      <td>272.528786</td>\n",
       "    </tr>\n",
       "    <tr>\n",
       "      <th>52731</th>\n",
       "      <td>2020-05-12 00:00:00</td>\n",
       "      <td>5</td>\n",
       "      <td>12</td>\n",
       "      <td>2020</td>\n",
       "      <td>0</td>\n",
       "      <td>0</td>\n",
       "      <td>Spain</td>\n",
       "      <td>ES</td>\n",
       "      <td>ESP</td>\n",
       "      <td>46937060.0</td>\n",
       "      <td>Europe</td>\n",
       "      <td>272.528786</td>\n",
       "    </tr>\n",
       "    <tr>\n",
       "      <th>52732</th>\n",
       "      <td>2020-04-12 00:00:00</td>\n",
       "      <td>4</td>\n",
       "      <td>12</td>\n",
       "      <td>2020</td>\n",
       "      <td>8745</td>\n",
       "      <td>214</td>\n",
       "      <td>Spain</td>\n",
       "      <td>ES</td>\n",
       "      <td>ESP</td>\n",
       "      <td>46937060.0</td>\n",
       "      <td>Europe</td>\n",
       "      <td>272.528786</td>\n",
       "    </tr>\n",
       "  </tbody>\n",
       "</table>\n",
       "</div>"
      ],
      "text/plain": [
       "                   dateRep  day  month  year  cases  deaths  \\\n",
       "52723           13/12/2020   13     12  2020      0       0   \n",
       "52724  2020-12-12 00:00:00   12     12  2020      0       0   \n",
       "52725  2020-11-12 00:00:00   11     12  2020  10519     280   \n",
       "52726  2020-10-12 00:00:00   10     12  2020   7955     325   \n",
       "52727  2020-09-12 00:00:00    9     12  2020   9773     373   \n",
       "52728  2020-08-12 00:00:00    8     12  2020      0       0   \n",
       "52729  2020-07-12 00:00:00    7     12  2020  17681     394   \n",
       "52730  2020-06-12 00:00:00    6     12  2020      0       0   \n",
       "52731  2020-05-12 00:00:00    5     12  2020      0       0   \n",
       "52732  2020-04-12 00:00:00    4     12  2020   8745     214   \n",
       "\n",
       "      countriesAndTerritories geoId countryterritoryCode  popData2019  \\\n",
       "52723                   Spain    ES                  ESP   46937060.0   \n",
       "52724                   Spain    ES                  ESP   46937060.0   \n",
       "52725                   Spain    ES                  ESP   46937060.0   \n",
       "52726                   Spain    ES                  ESP   46937060.0   \n",
       "52727                   Spain    ES                  ESP   46937060.0   \n",
       "52728                   Spain    ES                  ESP   46937060.0   \n",
       "52729                   Spain    ES                  ESP   46937060.0   \n",
       "52730                   Spain    ES                  ESP   46937060.0   \n",
       "52731                   Spain    ES                  ESP   46937060.0   \n",
       "52732                   Spain    ES                  ESP   46937060.0   \n",
       "\n",
       "      continentExp  Cumulative_number_for_14_days_of_COVID-19_cases_per_100000  \n",
       "52723       Europe                                         218.094188           \n",
       "52724       Europe                                         218.094188           \n",
       "52725       Europe                                         218.094188           \n",
       "52726       Europe                                         218.805779           \n",
       "52727       Europe                                         228.039421           \n",
       "52728       Europe                                         228.996021           \n",
       "52729       Europe                                         255.047930           \n",
       "52730       Europe                                         272.528786           \n",
       "52731       Europe                                         272.528786           \n",
       "52732       Europe                                         272.528786           "
      ]
     },
     "execution_count": 5,
     "metadata": {},
     "output_type": "execute_result"
    }
   ],
   "source": [
    "spain_data = df.loc[ df['countriesAndTerritories']=='Spain' ]\n",
    "\n",
    "spain_data[:10]"
   ]
  },
  {
   "cell_type": "markdown",
   "id": "1293bb46",
   "metadata": {},
   "source": [
    "## The Total Sum of COVID-19 Cases in Spain for 2020"
   ]
  },
  {
   "cell_type": "code",
   "execution_count": 8,
   "id": "23572a5c",
   "metadata": {},
   "outputs": [
    {
     "data": {
      "text/plain": [
       "1730575"
      ]
     },
     "execution_count": 8,
     "metadata": {},
     "output_type": "execute_result"
    }
   ],
   "source": [
    "spain_data.sum()['cases']"
   ]
  },
  {
   "cell_type": "code",
   "execution_count": 9,
   "id": "2a4fe75d",
   "metadata": {},
   "outputs": [
    {
     "data": {
      "text/plain": [
       "47624"
      ]
     },
     "execution_count": 9,
     "metadata": {},
     "output_type": "execute_result"
    }
   ],
   "source": [
    "spain_data.sum()['deaths']"
   ]
  },
  {
   "cell_type": "markdown",
   "id": "38571d78",
   "metadata": {},
   "source": [
    "The total conforimed cases for Spain for 2020 was 1,730,575 and the total confirmed deaths was 47,624. About 2.75% of those infected were killed by COVID-19."
   ]
  },
  {
   "cell_type": "markdown",
   "id": "07649df6",
   "metadata": {},
   "source": [
    "## The Trend of COVID-19 Cases in Spain Over Time"
   ]
  },
  {
   "cell_type": "markdown",
   "id": "0afeaa56",
   "metadata": {},
   "source": [
    "The code shows the trend of cases over time in Spain for 2020. The calculation used was by grouping the sum total of \"cases\" in to the different \"month\". Then displaying it as a line graph using the \"plot()\" code."
   ]
  },
  {
   "cell_type": "code",
   "execution_count": 31,
   "id": "8befb1f5",
   "metadata": {},
   "outputs": [],
   "source": [
    "sum_cases_per_day=spain_data.groupby('month').sum()['cases']"
   ]
  },
  {
   "cell_type": "code",
   "execution_count": 29,
   "id": "6bb74295",
   "metadata": {
    "scrolled": true
   },
   "outputs": [
    {
     "data": {
      "text/plain": [
       "<AxesSubplot:xlabel='month'>"
      ]
     },
     "execution_count": 29,
     "metadata": {},
     "output_type": "execute_result"
    },
    {
     "data": {
      "image/png": "[encoded data removed]",
      "text/plain": [
       "<Figure size 432x288 with 1 Axes>"
      ]
     },
     "metadata": {
      "needs_background": "light"
     },
     "output_type": "display_data"
    }
   ],
   "source": [
    "sum_cases_per_day.plot()"
   ]
  },
  {
   "cell_type": "markdown",
   "id": "899bc9ee",
   "metadata": {},
   "source": [
    "For Spain, at the beginning of 2020, they experienced zero cases, but when February came they experienced an increase in cases which peaked in April at over 100,000 cases. From April to June Spain began to see a decrease. June to November Spain saw a significant increase to the number of cases compared to the April peak at over 400,000 cases, but then saw a significant decrease from November to December."
   ]
  },
  {
   "cell_type": "markdown",
   "id": "31cb0bf9",
   "metadata": {},
   "source": [
    "## The Month with the Highest Number of COVID-19 Deaths in Spain"
   ]
  },
  {
   "cell_type": "markdown",
   "id": "80a54969",
   "metadata": {},
   "source": [
    "The code shows the month with the highest number of cases in spain for 2020 and dispaly the most to least starting on the left. The calulation used was by grouping the sum total of \"deaths\" into the different \"months\". Then dispalying it as a bar graph using \"plot.bar()\" and using \"nlargest(12)\" to put the 12 largest month first to allow easier visual comapring. "
   ]
  },
  {
   "cell_type": "code",
   "execution_count": 52,
   "id": "e323d655",
   "metadata": {
    "scrolled": true
   },
   "outputs": [
    {
     "data": {
      "text/plain": [
       "<AxesSubplot:xlabel='month'>"
      ]
     },
     "execution_count": 52,
     "metadata": {},
     "output_type": "execute_result"
    },
    {
     "data": {
      "image/png": "[encoded data removed]",
      "text/plain": [
       "<Figure size 432x288 with 1 Axes>"
      ]
     },
     "metadata": {
      "needs_background": "light"
     },
     "output_type": "display_data"
    }
   ],
   "source": [
    "sum_deaths_per_month=df.groupby('month').sum()['deaths']\n",
    "sum_deaths_per_month.nlargest(12).plot.bar()"
   ]
  },
  {
   "cell_type": "markdown",
   "id": "f686ffab",
   "metadata": {},
   "source": [
    "The bar graph shows that in November, Spain experienced the highest number of deaths than any other month for the year 2020 with over 250,000 deaths. The second-highest number of deaths was in the month of April which was slightly under 200,000 deaths. "
   ]
  },
  {
   "cell_type": "markdown",
   "id": "6b952928",
   "metadata": {},
   "source": [
    "## The Number of Deaths related to the Number of Cases in Spain over time"
   ]
  },
  {
   "cell_type": "markdown",
   "id": "6c7edeb7",
   "metadata": {},
   "source": [
    "The code shows the relationship between deaths and cases of COVID-19 in Spain. The caluculation used was by dispalying the spain data in a scatter plot using the \"plot.scatter()\" code. Then spesfiying the x and y axis with \"cases\" and \"deaths\" using the code \"(x='cases',y='deaths').\" C was used to convey \"month.\""
   ]
  },
  {
   "cell_type": "code",
   "execution_count": 6,
   "id": "147d53d6",
   "metadata": {},
   "outputs": [
    {
     "data": {
      "text/plain": [
       "<AxesSubplot:xlabel='cases', ylabel='deaths'>"
      ]
     },
     "execution_count": 6,
     "metadata": {},
     "output_type": "execute_result"
    },
    {
     "data": {
      "image/png": "[encoded data removed]",
      "text/plain": [
       "<Figure size 432x288 with 2 Axes>"
      ]
     },
     "metadata": {
      "needs_background": "light"
     },
     "output_type": "display_data"
    }
   ],
   "source": [
    "spain_data.plot.scatter(x='cases',y='deaths',c='month')"
   ]
  },
  {
   "cell_type": "markdown",
   "id": "f11dbd16",
   "metadata": {},
   "source": [
    "The scatter plot shows the relationship between cases and deaths over time. As time went on deaths decreases while cases increase, but their was two outlier."
   ]
  },
  {
   "cell_type": "markdown",
   "id": "568a6a5b",
   "metadata": {},
   "source": [
    "## Conclusion"
   ]
  },
  {
   "cell_type": "markdown",
   "id": "64581236",
   "metadata": {},
   "source": [
    "In conclusion, Spain experienced a total of 1,730,575 cases and a total of 47,624 deaths in 2020. The trend in cases Spain experience an increase over time throughout 2020. Spain experienced two peaks in cases, the first peak was in April and their largest peak was in November. In November, Spain had the highest amount of deaths which was over 250,000. Lastly, the relationship between cases of death was that deaths were higher when cases were lower. "
   ]
  },
  {
   "cell_type": "markdown",
   "id": "d713b16b",
   "metadata": {},
   "source": [
    "## Limitations and Suggestions"
   ]
  },
  {
   "cell_type": "markdown",
   "id": "5ab957a8",
   "metadata": {},
   "source": [
    "The data source from European Centre for Disease Prevention and Control was very comprehensive with data regarding COVID-19 globally but lacked the specificity of data within individual countries. It lacked data on age, various states, and provinces within a country. Having more specific data within these areas would allow for a more thorough analysis of how age played a role in deaths or how different regions in a country experienced a different level of the pandemic."
   ]
  },
  {
   "cell_type": "markdown",
   "id": "77c5d6fa",
   "metadata": {},
   "source": [
    "## Author Contact Info"
   ]
  },
  {
   "cell_type": "markdown",
   "id": "348c88e0",
   "metadata": {},
   "source": [
    "Harry Chu\n",
    "\n",
    "Email: chuhx@dukes.jmu.edu"
   ]
  }
 ],
 "metadata": {
  "kernelspec": {
   "display_name": "conda_python3",
   "language": "python",
   "name": "conda_python3"
  },
  "language_info": {
   "codemirror_mode": {
    "name": "ipython",
    "version": 3
   },
   "file_extension": ".py",
   "mimetype": "text/x-python",
   "name": "python",
   "nbconvert_exporter": "python",
   "pygments_lexer": "ipython3",
   "version": "3.6.13"
  }
 },
 "nbformat": 4,
 "nbformat_minor": 5
}
